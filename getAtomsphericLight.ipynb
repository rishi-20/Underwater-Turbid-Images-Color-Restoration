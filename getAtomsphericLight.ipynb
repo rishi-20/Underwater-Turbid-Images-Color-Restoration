{
 "cells": [
  {
   "cell_type": "code",
   "execution_count": null,
   "id": "21d64f36",
   "metadata": {},
   "outputs": [],
   "source": [
    "import numpy as np\n",
    "\n",
    "\n",
    "class Node(object):\n",
    "    def __init__(self,x,y,value):\n",
    "        self.x = x\n",
    "        self.y = y\n",
    "        self.value = value\n",
    "    def printInfo(self):\n",
    "        print(self.x,self.y,self.value)\n",
    "\n",
    "\n",
    "def getAtomsphericLight(darkChannel, img):\n",
    "    img = np.float32(img)\n",
    "    height = darkChannel.shape[0]\n",
    "    width = darkChannel.shape[1]\n",
    "    nodes = []\n",
    "    \n",
    "    for i in range(0, height):\n",
    "        for j in range(0, width):\n",
    "            oneNode = Node(i, j, darkChannel[i, j])\n",
    "            nodes.append(oneNode)\n",
    "    \n",
    "    nodes = sorted(nodes, key=lambda node: node.value, reverse=False)\n",
    "    # print('nodes[0]',nodes[0].value)\n",
    "    # print('img[nodes[0].x, nodes[0].y, 0]+img[nodes[0].x, nodes[0].y, 1])',img[nodes[0].x, nodes[0].y, 0],img[nodes[0].x, nodes[0].y, 1])\n",
    "    atomsphericLight  = np.mean([img[nodes[0].x, nodes[0].y, 0],img[nodes[0].x, nodes[0].y, 1]])\n",
    "    atomsphericLightGB = img[nodes[0].x, nodes[0].y, 0:2]\n",
    "    atomsphericLightRGB = img[nodes[0].x, nodes[0].y, :]\n",
    "    # atomsphericLight  =  [img[nodes[0].x, nodes[0].y, 0],img[nodes[0].x, nodes[0].y, 1]]\n",
    "    return atomsphericLight,atomsphericLightGB,atomsphericLightRGB"
   ]
  }
 ],
 "metadata": {
  "kernelspec": {
   "display_name": "Python 3 (ipykernel)",
   "language": "python",
   "name": "python3"
  },
  "language_info": {
   "codemirror_mode": {
    "name": "ipython",
    "version": 3
   },
   "file_extension": ".py",
   "mimetype": "text/x-python",
   "name": "python",
   "nbconvert_exporter": "python",
   "pygments_lexer": "ipython3",
   "version": "3.10.8"
  }
 },
 "nbformat": 4,
 "nbformat_minor": 5
}
