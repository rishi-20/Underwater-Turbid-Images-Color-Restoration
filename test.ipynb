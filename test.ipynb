{
 "cells": [
  {
   "cell_type": "code",
   "execution_count": null,
   "id": "8eae7b56",
   "metadata": {},
   "outputs": [],
   "source": [
    "import os\n",
    "\n",
    "import datetime\n",
    "import numpy as np\n",
    "import cv2\n",
    "import natsort\n",
    "\n",
    "from DetermineDepth import determineDepth\n",
    "from TransmissionEstimation import getTransmission\n",
    "from getAdaptiveExposureMap import AdaptiveExposureMap\n",
    "from getAdaptiveSceneRadiance import AdaptiveSceneRadiance\n",
    "from getAtomsphericLight import getAtomsphericLight\n",
    "from refinedTransmission import Refinedtransmission\n",
    "from sceneRadianceGb import sceneRadianceGB\n",
    "from sceneRadianceR import sceneradiance\n",
    "\n",
    "np.seterr(over='ignore')\n",
    "if __name__ == '__main__':\n",
    "    pass\n",
    "\n",
    "starttime = datetime.datetime.now()\n",
    "\n",
    "folder = \"C:/Users/Administrator/Desktop/UnderwaterImageEnhancement/Physical/GBdehazingRCorrection\"\n",
    "path = folder + \"/InputImages\"\n",
    "files = os.listdir(path)\n",
    "files = natsort.natsorted(files)\n",
    "\n",
    "for i in range(len(files)):\n",
    "    file = files[i]\n",
    "    filepath = path + \"/\" + file\n",
    "    prefix = file.split('.')[0]\n",
    "    if os.path.isfile(filepath):\n",
    "        print('********    file   ********', file)\n",
    "        img = cv2.imread('InputImages/' + file)\n",
    "        blockSize = 9\n",
    "\n",
    "        YiCrCb = cv2.cvtColor(img, cv2.COLOR_BGR2YCrCb)\n",
    "\n",
    "        print('YiCrCb[:, :, 2]',YiCrCb[:, :, 2])\n",
    "        normYiCrCb = (YiCrCb - YiCrCb.min()) / (YiCrCb.max() - YiCrCb.min())\n",
    "        Yi = normYiCrCb[:, :, 0]\n",
    "        Cr = normYiCrCb[:, :, 1]\n",
    "        Cb = normYiCrCb[:, :, 2]\n",
    "\n",
    "\n",
    "    cv2.imwrite('OutputImages/' + prefix + 'GBDehazedRcoorectionUDCPAdaptiveMap.jpg', np.uint8(np.clip((Yi*255), 0, 255)))\n",
    "    cv2.imwrite('OutputImages/' + prefix + 'GBDehazedRcoorectionUDCPAdaptiveMapCr.jpg', np.uint8(np.clip((Cr*255), 0, 255)))\n",
    "    cv2.imwrite('OutputImages/' + prefix + 'GBDehazedRcoorectionUDCPAdaptiveMapCb.jpg', np.uint8(np.clip((Cb*255), 0, 255)))\n",
    "\n",
    "Endtime = datetime.datetime.now()\n",
    "Time = Endtime - starttime\n",
    "print('Time', Time)\n",
    "\n"
   ]
  }
 ],
 "metadata": {
  "kernelspec": {
   "display_name": "Python 3 (ipykernel)",
   "language": "python",
   "name": "python3"
  },
  "language_info": {
   "codemirror_mode": {
    "name": "ipython",
    "version": 3
   },
   "file_extension": ".py",
   "mimetype": "text/x-python",
   "name": "python",
   "nbconvert_exporter": "python",
   "pygments_lexer": "ipython3",
   "version": "3.10.8"
  }
 },
 "nbformat": 4,
 "nbformat_minor": 5
}
