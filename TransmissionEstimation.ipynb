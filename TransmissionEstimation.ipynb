{
 "cells": [
  {
   "cell_type": "code",
   "execution_count": null,
   "id": "5d350308",
   "metadata": {},
   "outputs": [],
   "source": [
    "import numpy as np\n",
    "import math\n",
    "\n",
    "def getTransmission(normI,AtomsphericLight ,w):\n",
    "    M, N, C = normI.shape #M are the rows, N are the columns, C is the bgr channel\n",
    "    B = AtomsphericLight\n",
    "    padwidth = math.floor(w/2)\n",
    "    padded = np.pad(normI/B, ((padwidth, padwidth), (padwidth, padwidth),(0,0)), 'constant')\n",
    "    transmission = np.zeros((M,N,2))\n",
    "    for y, x in np.ndindex(M, N):\n",
    "        transmission[y,x,0] = 1 - np.min(padded[y : y+w , x : x+w , 0])\n",
    "        transmission[y,x,1] = 1 - np.min(padded[y : y+w , x : x+w , 1])\n",
    "    return transmission"
   ]
  }
 ],
 "metadata": {
  "kernelspec": {
   "display_name": "Python 3 (ipykernel)",
   "language": "python",
   "name": "python3"
  },
  "language_info": {
   "codemirror_mode": {
    "name": "ipython",
    "version": 3
   },
   "file_extension": ".py",
   "mimetype": "text/x-python",
   "name": "python",
   "nbconvert_exporter": "python",
   "pygments_lexer": "ipython3",
   "version": "3.10.8"
  }
 },
 "nbformat": 4,
 "nbformat_minor": 5
}
