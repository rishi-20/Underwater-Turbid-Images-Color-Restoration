{
 "cells": [
  {
   "cell_type": "code",
   "execution_count": 1,
   "id": "624e1d0a",
   "metadata": {},
   "outputs": [],
   "source": [
    "import numpy as np\n",
    "\n",
    "def getMAxChannel(img):\n",
    "    imgGray = np.zeros((img.shape[0], img.shape[1]), 'float32')\n",
    "    for i in range(0, img.shape[0]):\n",
    "        for j in range(0, img.shape[1]):\n",
    "            localMax = 0\n",
    "            for k in range(0, 2):\n",
    "                if img.item((i, j, k)) > localMax:\n",
    "                    localMax = img.item((i, j, k))\n",
    "            imgGray[i, j] = localMax\n",
    "    return imgGray\n",
    "\n",
    "\n",
    "def getDarkChannel(img, blockSize):\n",
    "    addSize = int((blockSize - 1) / 2)\n",
    "    newHeight = img.shape[0] + blockSize - 1\n",
    "    newWidth = img.shape[1] + blockSize - 1\n",
    "\n",
    "    imgMiddle = np.zeros((newHeight, newWidth))\n",
    "    imgMiddle[:, :] = 0\n",
    "    imgMiddle[addSize:newHeight - addSize, addSize:newWidth - addSize] = img\n",
    "    # print('imgMiddle',imgMiddle)\n",
    "    imgDark = np.zeros((img.shape[0], img.shape[1]), dtype=np.float16)\n",
    "    localMax = 0\n",
    "    for i in range(addSize, newHeight - addSize):\n",
    "        for j in range(addSize, newWidth - addSize):\n",
    "            localMax = 0\n",
    "            for k in range(i - addSize, i + addSize + 1):\n",
    "                for l in range(j - addSize, j + addSize + 1):\n",
    "                    if imgMiddle.item((k, l)) > localMax:\n",
    "                        localMax = imgMiddle.item((k, l))\n",
    "            imgDark[i - addSize, j - addSize] = localMax\n",
    "    return imgDark\n",
    "\n",
    "\n",
    "def determineDepth(img, blockSize):\n",
    "    img2 = img/255\n",
    "    img_GB = getMAxChannel(img2)\n",
    "    Max_GB = getDarkChannel(img_GB, blockSize)\n",
    "    Max_R  = getDarkChannel(img2[:,:,2], blockSize)\n",
    "    largestDiff = Max_R  - Max_GB\n",
    "\n",
    "    return largestDiff"
   ]
  },
  {
   "cell_type": "code",
   "execution_count": null,
   "id": "42d52cbd",
   "metadata": {},
   "outputs": [],
   "source": []
  }
 ],
 "metadata": {
  "kernelspec": {
   "display_name": "Python 3 (ipykernel)",
   "language": "python",
   "name": "python3"
  },
  "language_info": {
   "codemirror_mode": {
    "name": "ipython",
    "version": 3
   },
   "file_extension": ".py",
   "mimetype": "text/x-python",
   "name": "python",
   "nbconvert_exporter": "python",
   "pygments_lexer": "ipython3",
   "version": "3.10.8"
  }
 },
 "nbformat": 4,
 "nbformat_minor": 5
}
