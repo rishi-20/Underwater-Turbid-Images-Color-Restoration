{
 "cells": [
  {
   "cell_type": "code",
   "execution_count": 1,
   "id": "ab282f30",
   "metadata": {},
   "outputs": [
    {
     "ename": "ModuleNotFoundError",
     "evalue": "No module named 'GuidedFilter'",
     "output_type": "error",
     "traceback": [
      "\u001b[1;31m---------------------------------------------------------------------------\u001b[0m",
      "\u001b[1;31mModuleNotFoundError\u001b[0m                       Traceback (most recent call last)",
      "Cell \u001b[1;32mIn [1], line 2\u001b[0m\n\u001b[0;32m      1\u001b[0m \u001b[38;5;28;01mimport\u001b[39;00m \u001b[38;5;21;01mnumpy\u001b[39;00m \u001b[38;5;28;01mas\u001b[39;00m \u001b[38;5;21;01mnp\u001b[39;00m\n\u001b[1;32m----> 2\u001b[0m \u001b[38;5;28;01mfrom\u001b[39;00m \u001b[38;5;21;01mGuidedFilter\u001b[39;00m \u001b[38;5;28;01mimport\u001b[39;00m GuidedFilter\n\u001b[0;32m      5\u001b[0m \u001b[38;5;28;01mdef\u001b[39;00m  \u001b[38;5;21mrefinedtransmission\u001b[39m(transmission, img):\n\u001b[0;32m      6\u001b[0m     gimfiltR \u001b[38;5;241m=\u001b[39m \u001b[38;5;241m50\u001b[39m  \n",
      "\u001b[1;31mModuleNotFoundError\u001b[0m: No module named 'GuidedFilter'"
     ]
    }
   ],
   "source": [
    "import numpy as np\n",
    "from GuidedFilter import GuidedFilter\n",
    "\n",
    "\n",
    "def  refinedtransmission(transmission, img):\n",
    "    gimfiltR = 50  \n",
    "    eps = 10 ** -3  \n",
    "\n",
    "    guided_filter = GuidedFilter(img, gimfiltR, eps)\n",
    "    transmission[:,:,0] = guided_filter.filter(transmission[:,:,0])\n",
    "    transmission[:,:,1] = guided_filter.filter(transmission[:,:,1])\n",
    "    transmission = np.clip(transmission, 0.1, 0.9)\n",
    "\n",
    "\n",
    "    return transmission"
   ]
  },
  {
   "cell_type": "code",
   "execution_count": null,
   "id": "87e8b100",
   "metadata": {},
   "outputs": [],
   "source": []
  }
 ],
 "metadata": {
  "kernelspec": {
   "display_name": "Python 3 (ipykernel)",
   "language": "python",
   "name": "python3"
  },
  "language_info": {
   "codemirror_mode": {
    "name": "ipython",
    "version": 3
   },
   "file_extension": ".py",
   "mimetype": "text/x-python",
   "name": "python",
   "nbconvert_exporter": "python",
   "pygments_lexer": "ipython3",
   "version": "3.10.8"
  }
 },
 "nbformat": 4,
 "nbformat_minor": 5
}
